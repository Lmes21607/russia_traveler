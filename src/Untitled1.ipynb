{
 "cells": [
  {
   "cell_type": "code",
   "execution_count": 192,
   "metadata": {},
   "outputs": [],
   "source": [
    "import pandas as pd\n",
    "import ipywidgets as widgets\n",
    "from IPython.display import IFrame\n",
    "from math import sin, cos, acos, radians\n",
    "import networkx as nx\n",
    "import requests as req\n",
    "import json\n",
    "import pydeck as pdk\n",
    "import matplotlib.pyplot as plt"
   ]
  },
  {
   "cell_type": "code",
   "execution_count": 186,
   "metadata": {},
   "outputs": [
    {
     "data": {
      "text/html": [
       "<div>\n",
       "<style scoped>\n",
       "    .dataframe tbody tr th:only-of-type {\n",
       "        vertical-align: middle;\n",
       "    }\n",
       "\n",
       "    .dataframe tbody tr th {\n",
       "        vertical-align: top;\n",
       "    }\n",
       "\n",
       "    .dataframe thead th {\n",
       "        text-align: right;\n",
       "    }\n",
       "</style>\n",
       "<table border=\"1\" class=\"dataframe\">\n",
       "  <thead>\n",
       "    <tr style=\"text-align: right;\">\n",
       "      <th></th>\n",
       "      <th>Unnamed: 0</th>\n",
       "      <th>city</th>\n",
       "      <th>iata</th>\n",
       "      <th>infected</th>\n",
       "      <th>recovered</th>\n",
       "      <th>per100t</th>\n",
       "      <th>lat</th>\n",
       "      <th>lon</th>\n",
       "    </tr>\n",
       "  </thead>\n",
       "  <tbody>\n",
       "    <tr>\n",
       "      <td>0</td>\n",
       "      <td>0</td>\n",
       "      <td>Абакан</td>\n",
       "      <td>ABA</td>\n",
       "      <td>12063</td>\n",
       "      <td>12063</td>\n",
       "      <td>2258.2</td>\n",
       "      <td>53.500000</td>\n",
       "      <td>90.00000</td>\n",
       "    </tr>\n",
       "    <tr>\n",
       "      <td>1</td>\n",
       "      <td>1</td>\n",
       "      <td>Анадырь</td>\n",
       "      <td>DYR</td>\n",
       "      <td>389</td>\n",
       "      <td>389</td>\n",
       "      <td>766.9</td>\n",
       "      <td>66.252781</td>\n",
       "      <td>172.00100</td>\n",
       "    </tr>\n",
       "    <tr>\n",
       "      <td>2</td>\n",
       "      <td>2</td>\n",
       "      <td>Архангельск</td>\n",
       "      <td>ARH</td>\n",
       "      <td>31230</td>\n",
       "      <td>31230</td>\n",
       "      <td>2859.2</td>\n",
       "      <td>63.500000</td>\n",
       "      <td>43.00000</td>\n",
       "    </tr>\n",
       "    <tr>\n",
       "      <td>3</td>\n",
       "      <td>3</td>\n",
       "      <td>Астрахань</td>\n",
       "      <td>ASF</td>\n",
       "      <td>13715</td>\n",
       "      <td>13715</td>\n",
       "      <td>1363.4</td>\n",
       "      <td>47.233330</td>\n",
       "      <td>47.23333</td>\n",
       "    </tr>\n",
       "    <tr>\n",
       "      <td>4</td>\n",
       "      <td>4</td>\n",
       "      <td>Барнаул</td>\n",
       "      <td>BAX</td>\n",
       "      <td>26129</td>\n",
       "      <td>26129</td>\n",
       "      <td>1127.7</td>\n",
       "      <td>52.766670</td>\n",
       "      <td>82.61667</td>\n",
       "    </tr>\n",
       "    <tr>\n",
       "      <td>...</td>\n",
       "      <td>...</td>\n",
       "      <td>...</td>\n",
       "      <td>...</td>\n",
       "      <td>...</td>\n",
       "      <td>...</td>\n",
       "      <td>...</td>\n",
       "      <td>...</td>\n",
       "      <td>...</td>\n",
       "    </tr>\n",
       "    <tr>\n",
       "      <td>63</td>\n",
       "      <td>63</td>\n",
       "      <td>Челябинск</td>\n",
       "      <td>CEK</td>\n",
       "      <td>25249</td>\n",
       "      <td>25249</td>\n",
       "      <td>728.3</td>\n",
       "      <td>54.533330</td>\n",
       "      <td>60.33333</td>\n",
       "    </tr>\n",
       "    <tr>\n",
       "      <td>64</td>\n",
       "      <td>64</td>\n",
       "      <td>Чита</td>\n",
       "      <td>HTA</td>\n",
       "      <td>19238</td>\n",
       "      <td>19238</td>\n",
       "      <td>1815.5</td>\n",
       "      <td>54.000000</td>\n",
       "      <td>118.00000</td>\n",
       "    </tr>\n",
       "    <tr>\n",
       "      <td>65</td>\n",
       "      <td>65</td>\n",
       "      <td>Элиста</td>\n",
       "      <td>ESL</td>\n",
       "      <td>11658</td>\n",
       "      <td>11658</td>\n",
       "      <td>4301.3</td>\n",
       "      <td>46.566670</td>\n",
       "      <td>45.31667</td>\n",
       "    </tr>\n",
       "    <tr>\n",
       "      <td>66</td>\n",
       "      <td>66</td>\n",
       "      <td>Южно-Сахалинск</td>\n",
       "      <td>UUS</td>\n",
       "      <td>11327</td>\n",
       "      <td>11327</td>\n",
       "      <td>2319.0</td>\n",
       "      <td>50.550000</td>\n",
       "      <td>142.60000</td>\n",
       "    </tr>\n",
       "    <tr>\n",
       "      <td>67</td>\n",
       "      <td>67</td>\n",
       "      <td>Якутск</td>\n",
       "      <td>YKS</td>\n",
       "      <td>20054</td>\n",
       "      <td>20054</td>\n",
       "      <td>2067.2</td>\n",
       "      <td>66.400000</td>\n",
       "      <td>129.16667</td>\n",
       "    </tr>\n",
       "  </tbody>\n",
       "</table>\n",
       "<p>68 rows × 8 columns</p>\n",
       "</div>"
      ],
      "text/plain": [
       "    Unnamed: 0            city iata  infected  recovered  per100t        lat  \\\n",
       "0            0          Абакан  ABA     12063      12063   2258.2  53.500000   \n",
       "1            1         Анадырь  DYR       389        389    766.9  66.252781   \n",
       "2            2     Архангельск  ARH     31230      31230   2859.2  63.500000   \n",
       "3            3       Астрахань  ASF     13715      13715   1363.4  47.233330   \n",
       "4            4         Барнаул  BAX     26129      26129   1127.7  52.766670   \n",
       "..         ...             ...  ...       ...        ...      ...        ...   \n",
       "63          63       Челябинск  CEK     25249      25249    728.3  54.533330   \n",
       "64          64            Чита  HTA     19238      19238   1815.5  54.000000   \n",
       "65          65          Элиста  ESL     11658      11658   4301.3  46.566670   \n",
       "66          66  Южно-Сахалинск  UUS     11327      11327   2319.0  50.550000   \n",
       "67          67          Якутск  YKS     20054      20054   2067.2  66.400000   \n",
       "\n",
       "          lon  \n",
       "0    90.00000  \n",
       "1   172.00100  \n",
       "2    43.00000  \n",
       "3    47.23333  \n",
       "4    82.61667  \n",
       "..        ...  \n",
       "63   60.33333  \n",
       "64  118.00000  \n",
       "65   45.31667  \n",
       "66  142.60000  \n",
       "67  129.16667  \n",
       "\n",
       "[68 rows x 8 columns]"
      ]
     },
     "execution_count": 186,
     "metadata": {},
     "output_type": "execute_result"
    }
   ],
   "source": [
    "data = pd.read_csv('russia_cities.csv')\n",
    "data"
   ]
  },
  {
   "cell_type": "code",
   "execution_count": 128,
   "metadata": {},
   "outputs": [
    {
     "data": {
      "text/plain": [
       "lat       66.4\n",
       "lon    129.167\n",
       "Name: 67, dtype: object"
      ]
     },
     "execution_count": 128,
     "metadata": {},
     "output_type": "execute_result"
    }
   ],
   "source": [
    "data.iloc[i][['lat', 'lon']]"
   ]
  },
  {
   "cell_type": "code",
   "execution_count": 187,
   "metadata": {},
   "outputs": [
    {
     "data": {
      "text/html": [
       "\n",
       "        <iframe\n",
       "            width=\"700\"\n",
       "            height=\"600\"\n",
       "            src=\"map.html\"\n",
       "            frameborder=\"0\"\n",
       "            allowfullscreen\n",
       "        ></iframe>\n",
       "        "
      ],
      "text/plain": [
       "<IPython.lib.display.IFrame at 0x182404f2708>"
      ]
     },
     "execution_count": 187,
     "metadata": {},
     "output_type": "execute_result"
    }
   ],
   "source": [
    "layers = []\n",
    "data = data.sort_values(by=['per100t'], ascending=False).reset_index()\n",
    "for i in range(len(data.index)):\n",
    "    color = int((len(data) - i) / len(data) * 255)\n",
    "    coords = {'lon': data.iloc[i]['lon'], 'lat': data.iloc[i]['lat']}\n",
    "    layers.append(pdk.Layer(\n",
    "            'ScatterplotLayer',\n",
    "            data.loc[data.index == i],\n",
    "            get_position=['lon', 'lat'],\n",
    "            get_fill_color=[color, 0, 0, 140],\n",
    "            get_radius=30000,\n",
    "            auto_highlight=True,\n",
    "            pickable=True,\n",
    "            filled=True\n",
    "        ))\n",
    "    \n",
    "api=\"pk.eyJ1IjoibWFnaWNkIiwiYSI6ImNrcHR1OGJyZDB2dWoyb21ubXFwcndsYXcifQ.jHeD2GtkzvSIobms7aqUeg\"\n",
    "    \n",
    "arc_layer = pdk.Deck(\n",
    "    layers=layers,\n",
    "    initial_view_state=pdk.ViewState(\n",
    "        latitude=55.5735,\n",
    "        longitude=37.5,\n",
    "        zoom=5,\n",
    "        pitch=50\n",
    "    )\n",
    ")\n",
    "data = data.sort_values(by=['city']).reset_index()\n",
    "arc_layer.to_html('map.html')\n",
    "IFrame(src='map.html', width=700, height=600)\n"
   ]
  },
  {
   "cell_type": "code",
   "execution_count": 198,
   "metadata": {},
   "outputs": [
    {
     "data": {
      "application/vnd.jupyter.widget-view+json": {
       "model_id": "5624a8f6422b47f89f66920bf2c7558c",
       "version_major": 2,
       "version_minor": 0
      },
      "text/plain": [
       "Dropdown(description='Город отправления', options=('Абакан', 'Анадырь', 'Архангельск', 'Астрахань', 'Барнаул',…"
      ]
     },
     "metadata": {},
     "output_type": "display_data"
    },
    {
     "data": {
      "application/vnd.jupyter.widget-view+json": {
       "model_id": "14137052aa4c41118fbd35578da88047",
       "version_major": 2,
       "version_minor": 0
      },
      "text/plain": [
       "Dropdown(description='Город отправления', options=('Абакан', 'Анадырь', 'Архангельск', 'Астрахань', 'Барнаул',…"
      ]
     },
     "metadata": {},
     "output_type": "display_data"
    },
    {
     "data": {
      "application/vnd.jupyter.widget-view+json": {
       "model_id": "206c818644ce4359830f0cd12e99a6a1",
       "version_major": 2,
       "version_minor": 0
      },
      "text/plain": [
       "Button(description='Поиск билетов', style=ButtonStyle())"
      ]
     },
     "metadata": {},
     "output_type": "display_data"
    },
    {
     "data": {
      "application/vnd.jupyter.widget-view+json": {
       "model_id": "c358afdf7f544cac8415517a16b9cc0a",
       "version_major": 2,
       "version_minor": 0
      },
      "text/plain": [
       "DatePicker(value=None, description='Дата вылета')"
      ]
     },
     "metadata": {},
     "output_type": "display_data"
    },
    {
     "data": {
      "image/png": "[encoded data removed]",
      "text/plain": [
       "<Figure size 432x288 with 1 Axes>"
      ]
     },
     "metadata": {},
     "output_type": "display_data"
    },
    {
     "name": "stdout",
     "output_type": "stream",
     "text": [
      "Расстояние между городами в 100км:  64.06716322133246\n"
     ]
    }
   ],
   "source": [
    "cities = data['city'].to_list()\n",
    "city_from = widgets.Dropdown(\n",
    "    options=cities,\n",
    "    description='Город отправления',\n",
    ")\n",
    "city_to = widgets.Dropdown(\n",
    "    options=cities,\n",
    "    description='Город отправления',\n",
    ")\n",
    "\n",
    "from_date = widgets.DatePicker(\n",
    "    description='Дата вылета',\n",
    "    disabled=False\n",
    ")\n",
    "\n",
    "button_find_tickets = widgets.Button(description=\"Поиск билетов\")\n",
    "button_find_tickets.on_click(find_tickets)\n",
    "display(city_from, city_to, button_find_tickets, from_date)"
   ]
  },
  {
   "cell_type": "code",
   "execution_count": 196,
   "metadata": {},
   "outputs": [],
   "source": [
    "def find_tickets(b):\n",
    "    if (city_from.value == city_to.value):\n",
    "        print('Вы выбрали одинаковый город для отправления и прибытия')\n",
    "        return\n",
    "    from_iata = data[data['city'] == city_from.value]['iata'].values[0]\n",
    "    to_iata = data[data['city'] == city_to.value]['iata'].values[0]\n",
    "    lat1 = data[data['city'] == city_from.value]['lat'].values[0]\n",
    "    lat2 = data[data['city'] == city_to.value]['lat'].values[0]\n",
    "    lon1 = data[data['city'] == city_from.value]['lon'].values[0]\n",
    "    lon2 = data[data['city'] == city_to.value]['lon'].values[0]\n",
    "    \n",
    "    G = nx.Graph()\n",
    "    if from_date is None:\n",
    "        print('Вы не выбрали день вылета')\n",
    "        return\n",
    "    y = from_date.value.year\n",
    "    d = str(from_date.value.day)\n",
    "    d = '0' * (2 - len(d)) + d\n",
    "    m = str(from_date.value.month)\n",
    "    m = '0' * (2 - len(m)) + m\n",
    "    api = '******'\n",
    "    url = \"https://api.rasp.yandex.net/v3.0/search/?apikey={}&from={}&to={}&format=json&transport_types=plane&date={}-{}-{}&system=iata&transfers=true\".format(api, from_iata, to_iata, y, m, d)\n",
    "    r = req.get(url)\n",
    "    for subpath in json.loads(r.text)['segments']:\n",
    "        if 'details' not in subpath:\n",
    "            subpath = {'details': [subpath]}\n",
    "        for path in subpath['details'][::2]:\n",
    "            #print(path)\n",
    "            from_c = path['from']['popular_title']\n",
    "            to_c = path['to']['popular_title']\n",
    "            if from_c not in G.nodes:\n",
    "                G.add_node(from_c)\n",
    "            if to_c not in G.nodes:\n",
    "                G.add_node(to_c)\n",
    "            G.add_edge(from_c, to_c)\n",
    "    nx.draw(G, with_labels=True)\n",
    "    plt.show()\n",
    "    print(\"Расстояние между городами в 100км: \", acos(sin(radians(lat1)) * sin(radians(lat2)) + cos(radians(lat1)) * cos(radians(lat2)) * cos(radians(lon2 - lon1))) * 111.3)"
   ]
  }
 ],
 "metadata": {
  "kernelspec": {
   "display_name": "Python 3",
   "language": "python",
   "name": "python3"
  },
  "language_info": {
   "codemirror_mode": {
    "name": "ipython",
    "version": 3
   },
   "file_extension": ".py",
   "mimetype": "text/x-python",
   "name": "python",
   "nbconvert_exporter": "python",
   "pygments_lexer": "ipython3",
   "version": "3.7.4"
  }
 },
 "nbformat": 4,
 "nbformat_minor": 2
}
